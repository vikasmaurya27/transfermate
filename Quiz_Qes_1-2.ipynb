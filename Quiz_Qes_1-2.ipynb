{
 "cells": [
  {
   "cell_type": "code",
   "execution_count": 1,
   "id": "cce4e08e",
   "metadata": {},
   "outputs": [],
   "source": [
    "import pandas as pd\n",
    "import numpy as np"
   ]
  },
  {
   "cell_type": "markdown",
   "id": "3ca08b6a",
   "metadata": {},
   "source": [
    "### Write a code showing how to read a file using pandas"
   ]
  },
  {
   "cell_type": "code",
   "execution_count": 3,
   "id": "8ce526d9",
   "metadata": {},
   "outputs": [],
   "source": [
    "file_csv = pd.read_csv(r\"C:\\Users\\vmaurya\\Desktop\\df_pyspark.csv\", header = True)"
   ]
  },
  {
   "cell_type": "markdown",
   "id": "d17a4c34",
   "metadata": {},
   "source": [
    "### Convert multiple JSON files to CSV using Python"
   ]
  },
  {
   "cell_type": "code",
   "execution_count": null,
   "id": "c50af84f",
   "metadata": {},
   "outputs": [],
   "source": [
    "json_df1 = pd.read_json('file1.json')\n",
    "json_df2 = pd.read_json('file2.json')"
   ]
  },
  {
   "cell_type": "code",
   "execution_count": null,
   "id": "f1db2c52",
   "metadata": {},
   "outputs": [],
   "source": [
    "if json_df1.columns.to_list() == json_df1.columns.to_list():\n",
    "    concatenated_df = pd.concat([json_df1, json_df2], ignore_index=True)"
   ]
  },
  {
   "cell_type": "code",
   "execution_count": null,
   "id": "a62ede48",
   "metadata": {},
   "outputs": [],
   "source": [
    "concatenated_df.to_csv(\"merged_df.csv\",index=False)"
   ]
  },
  {
   "cell_type": "markdown",
   "id": "1e242492",
   "metadata": {},
   "source": [
    "### Merge multiple CSV files in a unique dataset making it into 5 million rows using python"
   ]
  },
  {
   "cell_type": "code",
   "execution_count": 4,
   "id": "0a55d90c",
   "metadata": {},
   "outputs": [],
   "source": [
    "import os"
   ]
  },
  {
   "cell_type": "code",
   "execution_count": 5,
   "id": "1aeb5d4a",
   "metadata": {},
   "outputs": [
    {
     "data": {
      "text/plain": [
       "'C:\\\\Users\\\\vmaurya'"
      ]
     },
     "execution_count": 5,
     "metadata": {},
     "output_type": "execute_result"
    }
   ],
   "source": [
    "os.getcwd()"
   ]
  },
  {
   "cell_type": "code",
   "execution_count": 10,
   "id": "fcbf20f7",
   "metadata": {},
   "outputs": [],
   "source": [
    "folder_path = 'C:\\\\Users\\\\vmaurya\\\\sales_records\\\\'"
   ]
  },
  {
   "cell_type": "code",
   "execution_count": 7,
   "id": "5ed83d8c",
   "metadata": {},
   "outputs": [
    {
     "data": {
      "text/plain": [
       "[]"
      ]
     },
     "execution_count": 7,
     "metadata": {},
     "output_type": "execute_result"
    }
   ],
   "source": [
    "csv_files = [f for f in os.listdir() if f.endswith('.csv')]\n",
    "csv_files"
   ]
  },
  {
   "cell_type": "code",
   "execution_count": 11,
   "id": "0781d2b2",
   "metadata": {},
   "outputs": [],
   "source": [
    "df_list = []"
   ]
  },
  {
   "cell_type": "code",
   "execution_count": null,
   "id": "83dfd75b",
   "metadata": {},
   "outputs": [],
   "source": [
    "for file in csv_files:\n",
    "    df_list.append(pd.read_csv(folder_path+file).assign(File_Name = os.path.basename(file)))\n",
    "\n",
    "# Another way is to create df list\n",
    "# sales_records_df1 = pd.read_csv(folder_path+csv_files[0])\n",
    "# sales_records_df2 = pd.read_csv(folder_path+csv_files[1])\n",
    "# sales_records_df3 = pd.read_csv(folder_path+csv_files[2])\n",
    "# sales_records_df4 = pd.read_csv(folder_path+csv_files[3])\n",
    "# sales_records_df5 = pd.read_csv(folder_path+csv_files[4]) \n",
    "## create a list with the df names e.g. [sales_records_df1, sales_records_df2,.....]"
   ]
  },
  {
   "cell_type": "code",
   "execution_count": 8,
   "id": "8737b607",
   "metadata": {},
   "outputs": [],
   "source": [
    "merged_csv_df = pd.concat(df_list, ignore_index=True)"
   ]
  },
  {
   "cell_type": "code",
   "execution_count": null,
   "id": "01616ab6",
   "metadata": {},
   "outputs": [],
   "source": [
    "merged_csv_df.to_csv(folder_path + 'merged_sales_records.csv', index=False)"
   ]
  },
  {
   "cell_type": "markdown",
   "id": "52dba0cc",
   "metadata": {},
   "source": [
    "### Create a framework or function to process Forex transaction requests extracted from files produced by our customer's internal systems"
   ]
  },
  {
   "cell_type": "code",
   "execution_count": null,
   "id": "85e6b279",
   "metadata": {},
   "outputs": [],
   "source": []
  }
 ],
 "metadata": {
  "kernelspec": {
   "display_name": "Python 3 (ipykernel)",
   "language": "python",
   "name": "python3"
  },
  "language_info": {
   "codemirror_mode": {
    "name": "ipython",
    "version": 3
   },
   "file_extension": ".py",
   "mimetype": "text/x-python",
   "name": "python",
   "nbconvert_exporter": "python",
   "pygments_lexer": "ipython3",
   "version": "3.9.7"
  }
 },
 "nbformat": 4,
 "nbformat_minor": 5
}
